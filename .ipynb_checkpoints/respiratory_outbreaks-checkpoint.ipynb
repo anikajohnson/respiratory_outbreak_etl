{
 "cells": [
  {
   "cell_type": "code",
   "execution_count": 1,
   "metadata": {},
   "outputs": [],
   "source": [
    "# Dependencies\n",
    "import pandas as pd\n",
    "from sqlalchemy import create_engine\n",
    "import datetime as date"
   ]
  },
  {
   "cell_type": "markdown",
   "metadata": {},
   "source": [
    "### Extract CSVs into DataFrames\n",
    "We found two datasets on Kaggle:\n",
    "\n",
    "1) SARS 2003 Outbreak Complete Dataset (csv)\n",
    "\n",
    "This dataset is from the World Health Organization and has basic information on the total number of cases, number of patient deaths and number of recovered patients.\n",
    "\n",
    "    https://www.kaggle.com/imdevskp/sars-outbreak-2003-complete-dataset\n",
    "    \n",
    "2) Novel Corona Virus 2019 Dataset (csv)\n",
    "\n",
    "This dataset is from the World Health Organization and has basic information on the total number of cases, number of patient deaths and number of recovered patients.\n",
    "\n",
    "    https://www.kaggle.com/sudalairajkumar/novel-corona-virus-2019-dataset\n",
    "  \n"
   ]
  },
  {
   "cell_type": "markdown",
   "metadata": {},
   "source": [
    "### Combining Our Datasets\n",
    "In order to combine our data, we needed to address several discrepancies between the datasets.\n",
    "1) The datasets originially had the date column in different data type formats so when we loaded the data into the dataframes we transformed the date values to date data type so that the datasets were comparable.\n",
    "2) We needed to normalize the values of in the country column. We did this by finding all unique country names for each dataset and comparing the names. We then replaced country names in each dataset to ensure they matched.\n",
    "3) We created a new dataframe for each dataset with just the values we wanted.\n",
    "4) We then renamed these columns to make the datasets match.\n",
    "5) We also added a column called 'respiratory_disease' to identify the disease name for each dataset when the two datasets were combined.\n"
   ]
  },
  {
   "cell_type": "markdown",
   "metadata": {},
   "source": [
    "### Extract SARS data"
   ]
  },
  {
   "cell_type": "code",
   "execution_count": 2,
   "metadata": {},
   "outputs": [
    {
     "data": {
      "text/html": [
       "<div>\n",
       "<style scoped>\n",
       "    .dataframe tbody tr th:only-of-type {\n",
       "        vertical-align: middle;\n",
       "    }\n",
       "\n",
       "    .dataframe tbody tr th {\n",
       "        vertical-align: top;\n",
       "    }\n",
       "\n",
       "    .dataframe thead th {\n",
       "        text-align: right;\n",
       "    }\n",
       "</style>\n",
       "<table border=\"1\" class=\"dataframe\">\n",
       "  <thead>\n",
       "    <tr style=\"text-align: right;\">\n",
       "      <th></th>\n",
       "      <th>Date</th>\n",
       "      <th>Country</th>\n",
       "      <th>Cumulative number of case(s)</th>\n",
       "      <th>Number of deaths</th>\n",
       "      <th>Number recovered</th>\n",
       "      <th>Date1</th>\n",
       "    </tr>\n",
       "  </thead>\n",
       "  <tbody>\n",
       "    <tr>\n",
       "      <td>0</td>\n",
       "      <td>2003-03-17</td>\n",
       "      <td>Germany</td>\n",
       "      <td>1</td>\n",
       "      <td>0</td>\n",
       "      <td>0</td>\n",
       "      <td>2003-03-17</td>\n",
       "    </tr>\n",
       "    <tr>\n",
       "      <td>1</td>\n",
       "      <td>2003-03-17</td>\n",
       "      <td>Canada</td>\n",
       "      <td>8</td>\n",
       "      <td>2</td>\n",
       "      <td>0</td>\n",
       "      <td>2003-03-17</td>\n",
       "    </tr>\n",
       "    <tr>\n",
       "      <td>2</td>\n",
       "      <td>2003-03-17</td>\n",
       "      <td>Singapore</td>\n",
       "      <td>20</td>\n",
       "      <td>0</td>\n",
       "      <td>0</td>\n",
       "      <td>2003-03-17</td>\n",
       "    </tr>\n",
       "    <tr>\n",
       "      <td>3</td>\n",
       "      <td>2003-03-17</td>\n",
       "      <td>Hong Kong SAR, China</td>\n",
       "      <td>95</td>\n",
       "      <td>1</td>\n",
       "      <td>0</td>\n",
       "      <td>2003-03-17</td>\n",
       "    </tr>\n",
       "    <tr>\n",
       "      <td>4</td>\n",
       "      <td>2003-03-17</td>\n",
       "      <td>Switzerland</td>\n",
       "      <td>2</td>\n",
       "      <td>0</td>\n",
       "      <td>0</td>\n",
       "      <td>2003-03-17</td>\n",
       "    </tr>\n",
       "  </tbody>\n",
       "</table>\n",
       "</div>"
      ],
      "text/plain": [
       "        Date               Country  Cumulative number of case(s)  \\\n",
       "0 2003-03-17               Germany                             1   \n",
       "1 2003-03-17                Canada                             8   \n",
       "2 2003-03-17             Singapore                            20   \n",
       "3 2003-03-17  Hong Kong SAR, China                            95   \n",
       "4 2003-03-17           Switzerland                             2   \n",
       "\n",
       "   Number of deaths  Number recovered       Date1  \n",
       "0                 0                 0  2003-03-17  \n",
       "1                 2                 0  2003-03-17  \n",
       "2                 0                 0  2003-03-17  \n",
       "3                 1                 0  2003-03-17  \n",
       "4                 0                 0  2003-03-17  "
      ]
     },
     "execution_count": 2,
     "metadata": {},
     "output_type": "execute_result"
    }
   ],
   "source": [
    "# Save data from path in new variable\n",
    "sars_file = \"data sources/sars_2003_complete_dataset_clean.csv\"\n",
    "\n",
    "# Use Pandas to read sars data\n",
    "sars_df = pd.read_csv(sars_file, parse_dates=[0])\n",
    "sars_df['Date1'] = sars_df['Date'].dt.date\n",
    "sars_df.head()"
   ]
  },
  {
   "cell_type": "markdown",
   "metadata": {},
   "source": [
    "### Transform SARS DataFrame"
   ]
  },
  {
   "cell_type": "code",
   "execution_count": 3,
   "metadata": {},
   "outputs": [
    {
     "data": {
      "text/plain": [
       "array(['Germany', 'Canada', 'Singapore', 'Hong Kong SAR, China',\n",
       "       'Switzerland', 'Thailand', 'Viet Nam', 'China', 'Taiwan, China',\n",
       "       'Slovenia', 'United Kingdom', 'Spain', 'United States', 'Italy',\n",
       "       'Republic of Ireland', 'France', 'Romania', 'Australia', 'Belgium',\n",
       "       'Brazil', 'Malaysia', 'Kuwait', 'Japan', 'South Africa',\n",
       "       'Indonesia', 'Philippines', 'Sweden', 'India', 'Mongolia',\n",
       "       'Bulgaria', 'Republic of Korea', 'Macao SAR, China', 'Poland',\n",
       "       'New Zealand', 'Colombia', 'Finland', 'Russian Federation'],\n",
       "      dtype=object)"
      ]
     },
     "execution_count": 3,
     "metadata": {},
     "output_type": "execute_result"
    }
   ],
   "source": [
    "# Get Unique Country Names for Comparison\n",
    "sars_df.Country.unique()"
   ]
  },
  {
   "cell_type": "code",
   "execution_count": 4,
   "metadata": {},
   "outputs": [
    {
     "data": {
      "text/html": [
       "<div>\n",
       "<style scoped>\n",
       "    .dataframe tbody tr th:only-of-type {\n",
       "        vertical-align: middle;\n",
       "    }\n",
       "\n",
       "    .dataframe tbody tr th {\n",
       "        vertical-align: top;\n",
       "    }\n",
       "\n",
       "    .dataframe thead th {\n",
       "        text-align: right;\n",
       "    }\n",
       "</style>\n",
       "<table border=\"1\" class=\"dataframe\">\n",
       "  <thead>\n",
       "    <tr style=\"text-align: right;\">\n",
       "      <th></th>\n",
       "      <th>date</th>\n",
       "      <th>country</th>\n",
       "      <th>confirmed</th>\n",
       "      <th>deaths</th>\n",
       "      <th>recovered</th>\n",
       "      <th>respiratory_disease</th>\n",
       "    </tr>\n",
       "  </thead>\n",
       "  <tbody>\n",
       "    <tr>\n",
       "      <td>0</td>\n",
       "      <td>2003-03-17</td>\n",
       "      <td>Germany</td>\n",
       "      <td>1</td>\n",
       "      <td>0</td>\n",
       "      <td>0</td>\n",
       "      <td>SARS</td>\n",
       "    </tr>\n",
       "    <tr>\n",
       "      <td>1</td>\n",
       "      <td>2003-03-17</td>\n",
       "      <td>Canada</td>\n",
       "      <td>8</td>\n",
       "      <td>2</td>\n",
       "      <td>0</td>\n",
       "      <td>SARS</td>\n",
       "    </tr>\n",
       "    <tr>\n",
       "      <td>2</td>\n",
       "      <td>2003-03-17</td>\n",
       "      <td>Singapore</td>\n",
       "      <td>20</td>\n",
       "      <td>0</td>\n",
       "      <td>0</td>\n",
       "      <td>SARS</td>\n",
       "    </tr>\n",
       "    <tr>\n",
       "      <td>3</td>\n",
       "      <td>2003-03-17</td>\n",
       "      <td>Hong Kong</td>\n",
       "      <td>95</td>\n",
       "      <td>1</td>\n",
       "      <td>0</td>\n",
       "      <td>SARS</td>\n",
       "    </tr>\n",
       "    <tr>\n",
       "      <td>4</td>\n",
       "      <td>2003-03-17</td>\n",
       "      <td>Switzerland</td>\n",
       "      <td>2</td>\n",
       "      <td>0</td>\n",
       "      <td>0</td>\n",
       "      <td>SARS</td>\n",
       "    </tr>\n",
       "  </tbody>\n",
       "</table>\n",
       "</div>"
      ],
      "text/plain": [
       "         date      country  confirmed  deaths  recovered respiratory_disease\n",
       "0  2003-03-17      Germany          1       0          0                SARS\n",
       "1  2003-03-17       Canada          8       2          0                SARS\n",
       "2  2003-03-17    Singapore         20       0          0                SARS\n",
       "3  2003-03-17    Hong Kong         95       1          0                SARS\n",
       "4  2003-03-17  Switzerland          2       0          0                SARS"
      ]
     },
     "execution_count": 4,
     "metadata": {},
     "output_type": "execute_result"
    }
   ],
   "source": [
    "# Separate Country Column into Province/State and Country\n",
    "rename_sars_df = sars_df.replace(\n",
    "    {\"Hong Kong SAR, China\": \"Hong Kong\",\n",
    "     \"Taiwan, China\": \"Taiwan\",\n",
    "     \"Macao SAR, China\": \"Macau\",\n",
    "     \"Viet Nam\": \"Vietnam\",\n",
    "     \"Republic of Ireland\": \"Ireland\",\n",
    "     \"Republic of Korea\" : \"Korea\",\n",
    "     \"Russian Federation\" : \"Russia\"})\n",
    "\n",
    "# new df with columns I want\n",
    "new_sars_df = rename_sars_df[['Date1','Country', 'Cumulative number of case(s)', 'Number of deaths', 'Number recovered']].copy()\n",
    "\n",
    "# reaname column\n",
    "clean_sars_df = new_sars_df.rename(columns={'Date1': 'date', 'Country':'country','Cumulative number of case(s)':'confirmed', \n",
    "                                            'Number of deaths':'deaths','Number recovered':'recovered'})\n",
    "clean_sars_df['respiratory_disease']='SARS'\n",
    "clean_sars_df.head()"
   ]
  },
  {
   "cell_type": "markdown",
   "metadata": {},
   "source": [
    "### Extract Corona data"
   ]
  },
  {
   "cell_type": "code",
   "execution_count": 5,
   "metadata": {},
   "outputs": [
    {
     "data": {
      "text/html": [
       "<div>\n",
       "<style scoped>\n",
       "    .dataframe tbody tr th:only-of-type {\n",
       "        vertical-align: middle;\n",
       "    }\n",
       "\n",
       "    .dataframe tbody tr th {\n",
       "        vertical-align: top;\n",
       "    }\n",
       "\n",
       "    .dataframe thead th {\n",
       "        text-align: right;\n",
       "    }\n",
       "</style>\n",
       "<table border=\"1\" class=\"dataframe\">\n",
       "  <thead>\n",
       "    <tr style=\"text-align: right;\">\n",
       "      <th></th>\n",
       "      <th>Sno</th>\n",
       "      <th>Date</th>\n",
       "      <th>Province/State</th>\n",
       "      <th>Country</th>\n",
       "      <th>Last Update</th>\n",
       "      <th>Confirmed</th>\n",
       "      <th>Deaths</th>\n",
       "      <th>Recovered</th>\n",
       "      <th>Date1</th>\n",
       "    </tr>\n",
       "  </thead>\n",
       "  <tbody>\n",
       "    <tr>\n",
       "      <td>0</td>\n",
       "      <td>1</td>\n",
       "      <td>2020-01-22 12:00:00</td>\n",
       "      <td>Anhui</td>\n",
       "      <td>China</td>\n",
       "      <td>01/22/2020 12:00:00</td>\n",
       "      <td>1.0</td>\n",
       "      <td>0.0</td>\n",
       "      <td>0.0</td>\n",
       "      <td>2020-01-22</td>\n",
       "    </tr>\n",
       "    <tr>\n",
       "      <td>1</td>\n",
       "      <td>2</td>\n",
       "      <td>2020-01-22 12:00:00</td>\n",
       "      <td>Beijing</td>\n",
       "      <td>China</td>\n",
       "      <td>01/22/2020 12:00:00</td>\n",
       "      <td>14.0</td>\n",
       "      <td>0.0</td>\n",
       "      <td>0.0</td>\n",
       "      <td>2020-01-22</td>\n",
       "    </tr>\n",
       "    <tr>\n",
       "      <td>2</td>\n",
       "      <td>3</td>\n",
       "      <td>2020-01-22 12:00:00</td>\n",
       "      <td>Chongqing</td>\n",
       "      <td>China</td>\n",
       "      <td>01/22/2020 12:00:00</td>\n",
       "      <td>6.0</td>\n",
       "      <td>0.0</td>\n",
       "      <td>0.0</td>\n",
       "      <td>2020-01-22</td>\n",
       "    </tr>\n",
       "    <tr>\n",
       "      <td>3</td>\n",
       "      <td>4</td>\n",
       "      <td>2020-01-22 12:00:00</td>\n",
       "      <td>Fujian</td>\n",
       "      <td>China</td>\n",
       "      <td>01/22/2020 12:00:00</td>\n",
       "      <td>1.0</td>\n",
       "      <td>0.0</td>\n",
       "      <td>0.0</td>\n",
       "      <td>2020-01-22</td>\n",
       "    </tr>\n",
       "    <tr>\n",
       "      <td>4</td>\n",
       "      <td>5</td>\n",
       "      <td>2020-01-22 12:00:00</td>\n",
       "      <td>Gansu</td>\n",
       "      <td>China</td>\n",
       "      <td>01/22/2020 12:00:00</td>\n",
       "      <td>0.0</td>\n",
       "      <td>0.0</td>\n",
       "      <td>0.0</td>\n",
       "      <td>2020-01-22</td>\n",
       "    </tr>\n",
       "  </tbody>\n",
       "</table>\n",
       "</div>"
      ],
      "text/plain": [
       "   Sno                Date Province/State Country          Last Update  \\\n",
       "0    1 2020-01-22 12:00:00          Anhui   China  01/22/2020 12:00:00   \n",
       "1    2 2020-01-22 12:00:00        Beijing   China  01/22/2020 12:00:00   \n",
       "2    3 2020-01-22 12:00:00      Chongqing   China  01/22/2020 12:00:00   \n",
       "3    4 2020-01-22 12:00:00         Fujian   China  01/22/2020 12:00:00   \n",
       "4    5 2020-01-22 12:00:00          Gansu   China  01/22/2020 12:00:00   \n",
       "\n",
       "   Confirmed  Deaths  Recovered       Date1  \n",
       "0        1.0     0.0        0.0  2020-01-22  \n",
       "1       14.0     0.0        0.0  2020-01-22  \n",
       "2        6.0     0.0        0.0  2020-01-22  \n",
       "3        1.0     0.0        0.0  2020-01-22  \n",
       "4        0.0     0.0        0.0  2020-01-22  "
      ]
     },
     "execution_count": 5,
     "metadata": {},
     "output_type": "execute_result"
    }
   ],
   "source": [
    "# Save Corona data from path in new variable\n",
    "corona_file = \"data sources/2019_nCoV_data.csv\"\n",
    "\n",
    "# Use Pandas to read corona data, remove timestamp\n",
    "corona_df = pd.read_csv(corona_file, parse_dates=[1])\n",
    "corona_df['Date1'] = corona_df['Date'].dt.date\n",
    "corona_df.head()"
   ]
  },
  {
   "cell_type": "markdown",
   "metadata": {},
   "source": [
    "### Transform Corona DataFrame"
   ]
  },
  {
   "cell_type": "code",
   "execution_count": 6,
   "metadata": {},
   "outputs": [
    {
     "data": {
      "text/plain": [
       "array(['China', 'US', 'Japan', 'Thailand', 'South Korea',\n",
       "       'Mainland China', 'Hong Kong', 'Macau', 'Taiwan', 'Singapore',\n",
       "       'Philippines', 'Malaysia', 'Vietnam', 'Australia', 'Mexico',\n",
       "       'Brazil', 'France', 'Nepal', 'Canada', 'Cambodia', 'Sri Lanka',\n",
       "       'Ivory Coast', 'Germany', 'Finland', 'United Arab Emirates',\n",
       "       'India', 'Italy', 'Sweden', 'Russia', 'Spain', 'UK', 'Belgium',\n",
       "       'Others', 'Egypt'], dtype=object)"
      ]
     },
     "execution_count": 6,
     "metadata": {},
     "output_type": "execute_result"
    }
   ],
   "source": [
    "# Get Unique Country Names for Comparison\n",
    "corona_df.Country.unique()"
   ]
  },
  {
   "cell_type": "code",
   "execution_count": 7,
   "metadata": {},
   "outputs": [
    {
     "data": {
      "text/html": [
       "<div>\n",
       "<style scoped>\n",
       "    .dataframe tbody tr th:only-of-type {\n",
       "        vertical-align: middle;\n",
       "    }\n",
       "\n",
       "    .dataframe tbody tr th {\n",
       "        vertical-align: top;\n",
       "    }\n",
       "\n",
       "    .dataframe thead th {\n",
       "        text-align: right;\n",
       "    }\n",
       "</style>\n",
       "<table border=\"1\" class=\"dataframe\">\n",
       "  <thead>\n",
       "    <tr style=\"text-align: right;\">\n",
       "      <th></th>\n",
       "      <th>date</th>\n",
       "      <th>country</th>\n",
       "      <th>confirmed</th>\n",
       "      <th>deaths</th>\n",
       "      <th>recovered</th>\n",
       "      <th>respiratory_disease</th>\n",
       "    </tr>\n",
       "  </thead>\n",
       "  <tbody>\n",
       "    <tr>\n",
       "      <td>0</td>\n",
       "      <td>2020-01-22</td>\n",
       "      <td>China</td>\n",
       "      <td>1.0</td>\n",
       "      <td>0.0</td>\n",
       "      <td>0.0</td>\n",
       "      <td>Corona</td>\n",
       "    </tr>\n",
       "    <tr>\n",
       "      <td>1</td>\n",
       "      <td>2020-01-22</td>\n",
       "      <td>China</td>\n",
       "      <td>14.0</td>\n",
       "      <td>0.0</td>\n",
       "      <td>0.0</td>\n",
       "      <td>Corona</td>\n",
       "    </tr>\n",
       "    <tr>\n",
       "      <td>2</td>\n",
       "      <td>2020-01-22</td>\n",
       "      <td>China</td>\n",
       "      <td>6.0</td>\n",
       "      <td>0.0</td>\n",
       "      <td>0.0</td>\n",
       "      <td>Corona</td>\n",
       "    </tr>\n",
       "    <tr>\n",
       "      <td>3</td>\n",
       "      <td>2020-01-22</td>\n",
       "      <td>China</td>\n",
       "      <td>1.0</td>\n",
       "      <td>0.0</td>\n",
       "      <td>0.0</td>\n",
       "      <td>Corona</td>\n",
       "    </tr>\n",
       "    <tr>\n",
       "      <td>4</td>\n",
       "      <td>2020-01-22</td>\n",
       "      <td>China</td>\n",
       "      <td>0.0</td>\n",
       "      <td>0.0</td>\n",
       "      <td>0.0</td>\n",
       "      <td>Corona</td>\n",
       "    </tr>\n",
       "  </tbody>\n",
       "</table>\n",
       "</div>"
      ],
      "text/plain": [
       "         date country  confirmed  deaths  recovered respiratory_disease\n",
       "0  2020-01-22   China        1.0     0.0        0.0              Corona\n",
       "1  2020-01-22   China       14.0     0.0        0.0              Corona\n",
       "2  2020-01-22   China        6.0     0.0        0.0              Corona\n",
       "3  2020-01-22   China        1.0     0.0        0.0              Corona\n",
       "4  2020-01-22   China        0.0     0.0        0.0              Corona"
      ]
     },
     "execution_count": 7,
     "metadata": {},
     "output_type": "execute_result"
    }
   ],
   "source": [
    "# normalize values in Country\n",
    "corona_df = corona_df.replace(\n",
    "    {\"UK\": \"United Kingdom\", \"US\": \"United States\", \"Mainland China\": \"China\"})\n",
    "# new df with columns I want\n",
    "new_corona_df = corona_df[['Date1','Country', 'Confirmed', 'Deaths', 'Recovered']].copy()\n",
    "\n",
    "# reaname column\n",
    "clean_corona_df = new_corona_df.rename(columns={'Date1':'date', 'Country': 'country', 'Confirmed': 'confirmed', \n",
    "                                                'Deaths': 'deaths', 'Recovered': 'recovered'})\n",
    "clean_corona_df['respiratory_disease']='Corona'\n",
    "clean_corona_df.head()"
   ]
  },
  {
   "cell_type": "markdown",
   "metadata": {},
   "source": [
    "### Creating Our Database\n",
    "To create our Database we used PgAdmin to run PostgresSQL 11 where we created a combined_disease table with a serial id as the primary key and the following columns: date, country, confirmed, deaths, recovered and respiratory_disease. Then we took each cleaned dataframe and loaded each dataframe into the combined_disease table. We set the index to false because we planned to use our serial id instead."
   ]
  },
  {
   "cell_type": "markdown",
   "metadata": {},
   "source": [
    "### Create Database Connection"
   ]
  },
  {
   "cell_type": "code",
   "execution_count": 8,
   "metadata": {},
   "outputs": [],
   "source": [
    "connection_string = \"postgres:postgres@localhost:5432/respiratory_outbreak_db\"\n",
    "engine = create_engine(f'postgresql://{connection_string}')"
   ]
  },
  {
   "cell_type": "markdown",
   "metadata": {},
   "source": [
    "### Load DataFrames into Database"
   ]
  },
  {
   "cell_type": "code",
   "execution_count": 12,
   "metadata": {},
   "outputs": [],
   "source": [
    "clean_sars_df.to_sql(name='combined_disease', con=engine, if_exists='append', index=False)"
   ]
  },
  {
   "cell_type": "code",
   "execution_count": 13,
   "metadata": {},
   "outputs": [],
   "source": [
    "clean_corona_df.to_sql(name='combined_disease', con=engine, if_exists='append', index=False)"
   ]
  }
 ],
 "metadata": {
  "kernelspec": {
   "display_name": "Python 3",
   "language": "python",
   "name": "python3"
  },
  "language_info": {
   "codemirror_mode": {
    "name": "ipython",
    "version": 3
   },
   "file_extension": ".py",
   "mimetype": "text/x-python",
   "name": "python",
   "nbconvert_exporter": "python",
   "pygments_lexer": "ipython3",
   "version": "3.7.4"
  }
 },
 "nbformat": 4,
 "nbformat_minor": 2
}
